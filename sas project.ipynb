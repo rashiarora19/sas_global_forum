{
 "cells": [
  {
   "cell_type": "code",
   "execution_count": 1,
   "metadata": {},
   "outputs": [],
   "source": [
    "%matplotlib inline"
   ]
  },
  {
   "cell_type": "code",
   "execution_count": 2,
   "metadata": {},
   "outputs": [],
   "source": [
    "import MySQLdb\n",
    "import pandas as pd\n",
    "import seaborn as sns"
   ]
  },
  {
   "cell_type": "code",
   "execution_count": 3,
   "metadata": {},
   "outputs": [],
   "source": [
    "mysql_cn= MySQLdb.connect(host='localhost', \n",
    "                port=3306,user='root', \n",
    "                db='yelp_db')"
   ]
  },
  {
   "cell_type": "code",
   "execution_count": 17,
   "metadata": {},
   "outputs": [
    {
     "data": {
      "text/html": [
       "<div>\n",
       "<style scoped>\n",
       "    .dataframe tbody tr th:only-of-type {\n",
       "        vertical-align: middle;\n",
       "    }\n",
       "\n",
       "    .dataframe tbody tr th {\n",
       "        vertical-align: top;\n",
       "    }\n",
       "\n",
       "    .dataframe thead th {\n",
       "        text-align: right;\n",
       "    }\n",
       "</style>\n",
       "<table border=\"1\" class=\"dataframe\">\n",
       "  <thead>\n",
       "    <tr style=\"text-align: right;\">\n",
       "      <th></th>\n",
       "      <th>median(c)</th>\n",
       "    </tr>\n",
       "  </thead>\n",
       "  <tbody>\n",
       "    <tr>\n",
       "      <th>0</th>\n",
       "      <td>9.0</td>\n",
       "    </tr>\n",
       "  </tbody>\n",
       "</table>\n",
       "</div>"
      ],
      "text/plain": [
       "   median(c)\n",
       "0        9.0"
      ]
     },
     "execution_count": 17,
     "metadata": {},
     "output_type": "execute_result"
    }
   ],
   "source": [
    "pd.read_sql(\"\"\"\n",
    "select median(c)\n",
    "FROM   (select business_id, count(1) as c from review group by 1) as d\n",
    "\"\"\", con=mysql_cn)"
   ]
  },
  {
   "cell_type": "code",
   "execution_count": 20,
   "metadata": {},
   "outputs": [],
   "source": [
    "df = pd.read_sql(\"\"\"select business_id, count(1) as c from review group by 1\"\"\", con=mysql_cn)"
   ]
  },
  {
   "cell_type": "code",
   "execution_count": 25,
   "metadata": {},
   "outputs": [
    {
     "data": {
      "text/html": [
       "<div>\n",
       "<style scoped>\n",
       "    .dataframe tbody tr th:only-of-type {\n",
       "        vertical-align: middle;\n",
       "    }\n",
       "\n",
       "    .dataframe tbody tr th {\n",
       "        vertical-align: top;\n",
       "    }\n",
       "\n",
       "    .dataframe thead th {\n",
       "        text-align: right;\n",
       "    }\n",
       "</style>\n",
       "<table border=\"1\" class=\"dataframe\">\n",
       "  <thead>\n",
       "    <tr style=\"text-align: right;\">\n",
       "      <th></th>\n",
       "      <th>c</th>\n",
       "    </tr>\n",
       "  </thead>\n",
       "  <tbody>\n",
       "    <tr>\n",
       "      <th>0.10</th>\n",
       "      <td>3.0</td>\n",
       "    </tr>\n",
       "    <tr>\n",
       "      <th>0.50</th>\n",
       "      <td>9.0</td>\n",
       "    </tr>\n",
       "    <tr>\n",
       "      <th>0.75</th>\n",
       "      <td>23.0</td>\n",
       "    </tr>\n",
       "    <tr>\n",
       "      <th>0.80</th>\n",
       "      <td>30.0</td>\n",
       "    </tr>\n",
       "    <tr>\n",
       "      <th>0.95</th>\n",
       "      <td>114.0</td>\n",
       "    </tr>\n",
       "  </tbody>\n",
       "</table>\n",
       "</div>"
      ],
      "text/plain": [
       "          c\n",
       "0.10    3.0\n",
       "0.50    9.0\n",
       "0.75   23.0\n",
       "0.80   30.0\n",
       "0.95  114.0"
      ]
     },
     "execution_count": 25,
     "metadata": {},
     "output_type": "execute_result"
    }
   ],
   "source": [
    "df.quantile([0.1, 0.5, 0.75, 0.8, 0.95])"
   ]
  },
  {
   "cell_type": "code",
   "execution_count": 27,
   "metadata": {},
   "outputs": [
    {
     "data": {
      "text/plain": [
       "31176"
      ]
     },
     "execution_count": 27,
     "metadata": {},
     "output_type": "execute_result"
    }
   ],
   "source": [
    "len(df[df.c > 30])"
   ]
  },
  {
   "cell_type": "code",
   "execution_count": 30,
   "metadata": {},
   "outputs": [
    {
     "data": {
      "text/plain": [
       "1183362"
      ]
     },
     "execution_count": 30,
     "metadata": {},
     "output_type": "execute_result"
    }
   ],
   "source": [
    "len(df)"
   ]
  },
  {
   "cell_type": "code",
   "execution_count": 28,
   "metadata": {},
   "outputs": [],
   "source": [
    "df = pd.read_sql(\"\"\"select user_id, count(1) as c from review group by 1\"\"\", con=mysql_cn)"
   ]
  },
  {
   "cell_type": "code",
   "execution_count": 29,
   "metadata": {},
   "outputs": [
    {
     "data": {
      "text/html": [
       "<div>\n",
       "<style scoped>\n",
       "    .dataframe tbody tr th:only-of-type {\n",
       "        vertical-align: middle;\n",
       "    }\n",
       "\n",
       "    .dataframe tbody tr th {\n",
       "        vertical-align: top;\n",
       "    }\n",
       "\n",
       "    .dataframe thead th {\n",
       "        text-align: right;\n",
       "    }\n",
       "</style>\n",
       "<table border=\"1\" class=\"dataframe\">\n",
       "  <thead>\n",
       "    <tr style=\"text-align: right;\">\n",
       "      <th></th>\n",
       "      <th>c</th>\n",
       "    </tr>\n",
       "  </thead>\n",
       "  <tbody>\n",
       "    <tr>\n",
       "      <th>0.10</th>\n",
       "      <td>1.0</td>\n",
       "    </tr>\n",
       "    <tr>\n",
       "      <th>0.50</th>\n",
       "      <td>1.0</td>\n",
       "    </tr>\n",
       "    <tr>\n",
       "      <th>0.75</th>\n",
       "      <td>3.0</td>\n",
       "    </tr>\n",
       "    <tr>\n",
       "      <th>0.80</th>\n",
       "      <td>4.0</td>\n",
       "    </tr>\n",
       "    <tr>\n",
       "      <th>0.95</th>\n",
       "      <td>13.0</td>\n",
       "    </tr>\n",
       "  </tbody>\n",
       "</table>\n",
       "</div>"
      ],
      "text/plain": [
       "         c\n",
       "0.10   1.0\n",
       "0.50   1.0\n",
       "0.75   3.0\n",
       "0.80   4.0\n",
       "0.95  13.0"
      ]
     },
     "execution_count": 29,
     "metadata": {},
     "output_type": "execute_result"
    }
   ],
   "source": [
    "df.quantile([0.1, 0.5, 0.75, 0.8, 0.95])"
   ]
  },
  {
   "cell_type": "code",
   "execution_count": 33,
   "metadata": {},
   "outputs": [
    {
     "data": {
      "text/plain": [
       "array([[<matplotlib.axes._subplots.AxesSubplot object at 0x113259240>]], dtype=object)"
      ]
     },
     "execution_count": 33,
     "metadata": {},
     "output_type": "execute_result"
    },
    {
     "data": {
      "image/png": "[encoded data removed]",
      "text/plain": [
       "<matplotlib.figure.Figure at 0x11319ac50>"
      ]
     },
     "metadata": {},
     "output_type": "display_data"
    }
   ],
   "source": [
    "df.hist(log=True)"
   ]
  },
  {
   "cell_type": "code",
   "execution_count": 35,
   "metadata": {},
   "outputs": [],
   "source": [
    "df = pd.read_sql(\"\"\"\n",
    "select * from review \n",
    "where business_id in (select business_id as c from review group by 1 having count(1) > 30 )\n",
    "\"\"\", con=mysql_cn)"
   ]
  },
  {
   "cell_type": "code",
   "execution_count": 4,
   "metadata": {},
   "outputs": [],
   "source": [
    "# df.to_csv(\"reviews.csv\", index=False)"
   ]
  },
  {
   "cell_type": "code",
   "execution_count": 5,
   "metadata": {},
   "outputs": [
    {
     "name": "stderr",
     "output_type": "stream",
     "text": [
      "/usr/local/lib/python3.6/site-packages/IPython/core/interactiveshell.py:2728: DtypeWarning: Columns (4,5) have mixed types. Specify dtype option on import or set low_memory=False.\n",
      "  interactivity=interactivity, compiler=compiler, result=result)\n"
     ]
    }
   ],
   "source": [
    "df = pd.read_csv(\"./reviews.csv\")"
   ]
  },
  {
   "cell_type": "code",
   "execution_count": 15,
   "metadata": {},
   "outputs": [
    {
     "data": {
      "text/html": [
       "<div>\n",
       "<style scoped>\n",
       "    .dataframe tbody tr th:only-of-type {\n",
       "        vertical-align: middle;\n",
       "    }\n",
       "\n",
       "    .dataframe tbody tr th {\n",
       "        vertical-align: top;\n",
       "    }\n",
       "\n",
       "    .dataframe thead th {\n",
       "        text-align: right;\n",
       "    }\n",
       "</style>\n",
       "<table border=\"1\" class=\"dataframe\">\n",
       "  <thead>\n",
       "    <tr style=\"text-align: right;\">\n",
       "      <th></th>\n",
       "      <th>id</th>\n",
       "      <th>stars</th>\n",
       "      <th>date</th>\n",
       "      <th>text</th>\n",
       "      <th>useful</th>\n",
       "      <th>funny</th>\n",
       "      <th>cool</th>\n",
       "      <th>business_id</th>\n",
       "      <th>user_id</th>\n",
       "    </tr>\n",
       "  </thead>\n",
       "  <tbody>\n",
       "    <tr>\n",
       "      <th>0</th>\n",
       "      <td>----X0BIDP9tA49U3RvdSQ</td>\n",
       "      <td>4</td>\n",
       "      <td>2014-02-17</td>\n",
       "      <td>Red, white and bleu salad was super yum and a ...</td>\n",
       "      <td>0</td>\n",
       "      <td>0</td>\n",
       "      <td>0.0</td>\n",
       "      <td>Ue6-WhXvI-_1xUIuapl0zQ</td>\n",
       "      <td>gVmUR8rqUFdbSeZbsg6z_w</td>\n",
       "    </tr>\n",
       "    <tr>\n",
       "      <th>1</th>\n",
       "      <td>---0hl58W-sjVTKi5LghGw</td>\n",
       "      <td>4</td>\n",
       "      <td>2016-07-24</td>\n",
       "      <td>Ate the momos during the momo crawl.. Was the ...</td>\n",
       "      <td>0</td>\n",
       "      <td>0</td>\n",
       "      <td>0.0</td>\n",
       "      <td>Ae4ABFarGMaI5lk1i98A0w</td>\n",
       "      <td>Y6qylbHq8QJmaCRSlKdIog</td>\n",
       "    </tr>\n",
       "    <tr>\n",
       "      <th>2</th>\n",
       "      <td>---3OXpexMp0oAg77xWfYA</td>\n",
       "      <td>5</td>\n",
       "      <td>2012-04-07</td>\n",
       "      <td>Pizza here made my night... Good people and gr...</td>\n",
       "      <td>2</td>\n",
       "      <td>0</td>\n",
       "      <td>0.0</td>\n",
       "      <td>lKq4Qsz13FDcAVgp49uukQ</td>\n",
       "      <td>SnXZkRN9Yf060pNTk1HMDg</td>\n",
       "    </tr>\n",
       "    <tr>\n",
       "      <th>3</th>\n",
       "      <td>---65iIIGzHj96QnOh89EQ</td>\n",
       "      <td>5</td>\n",
       "      <td>2015-09-11</td>\n",
       "      <td>Great brisket sandwich as claimed. Weird that ...</td>\n",
       "      <td>0</td>\n",
       "      <td>0</td>\n",
       "      <td>0.0</td>\n",
       "      <td>6nKR80xEGHYf2UxAe_Cu_g</td>\n",
       "      <td>VcmSgvslHAhqWoEn16wjjw</td>\n",
       "    </tr>\n",
       "    <tr>\n",
       "      <th>4</th>\n",
       "      <td>---7WhU-FtzSUOje87Y4uw</td>\n",
       "      <td>5</td>\n",
       "      <td>2016-01-22</td>\n",
       "      <td>Interesting food, great atmosphere, and great ...</td>\n",
       "      <td>1</td>\n",
       "      <td>1</td>\n",
       "      <td>1.0</td>\n",
       "      <td>Z_mJYg3vi8cPZHa1J4BALw</td>\n",
       "      <td>NKF9v-r0jd1p0JVi9h2T1w</td>\n",
       "    </tr>\n",
       "  </tbody>\n",
       "</table>\n",
       "</div>"
      ],
      "text/plain": [
       "                       id  stars        date  \\\n",
       "0  ----X0BIDP9tA49U3RvdSQ      4  2014-02-17   \n",
       "1  ---0hl58W-sjVTKi5LghGw      4  2016-07-24   \n",
       "2  ---3OXpexMp0oAg77xWfYA      5  2012-04-07   \n",
       "3  ---65iIIGzHj96QnOh89EQ      5  2015-09-11   \n",
       "4  ---7WhU-FtzSUOje87Y4uw      5  2016-01-22   \n",
       "\n",
       "                                                text useful funny  cool  \\\n",
       "0  Red, white and bleu salad was super yum and a ...      0     0   0.0   \n",
       "1  Ate the momos during the momo crawl.. Was the ...      0     0   0.0   \n",
       "2  Pizza here made my night... Good people and gr...      2     0   0.0   \n",
       "3  Great brisket sandwich as claimed. Weird that ...      0     0   0.0   \n",
       "4  Interesting food, great atmosphere, and great ...      1     1   1.0   \n",
       "\n",
       "              business_id                 user_id  \n",
       "0  Ue6-WhXvI-_1xUIuapl0zQ  gVmUR8rqUFdbSeZbsg6z_w  \n",
       "1  Ae4ABFarGMaI5lk1i98A0w  Y6qylbHq8QJmaCRSlKdIog  \n",
       "2  lKq4Qsz13FDcAVgp49uukQ  SnXZkRN9Yf060pNTk1HMDg  \n",
       "3  6nKR80xEGHYf2UxAe_Cu_g  VcmSgvslHAhqWoEn16wjjw  \n",
       "4  Z_mJYg3vi8cPZHa1J4BALw  NKF9v-r0jd1p0JVi9h2T1w  "
      ]
     },
     "execution_count": 15,
     "metadata": {},
     "output_type": "execute_result"
    }
   ],
   "source": [
    "df.head()"
   ]
  },
  {
   "cell_type": "code",
   "execution_count": 40,
   "metadata": {},
   "outputs": [],
   "source": [
    "from surprise import SVD, NMF, SVDpp, SlopeOne\n",
    "from surprise import Dataset, Reader\n",
    "from surprise import evaluate, print_perf"
   ]
  },
  {
   "cell_type": "code",
   "execution_count": 22,
   "metadata": {},
   "outputs": [],
   "source": [
    "reader = Reader(rating_scale=(1, 5))"
   ]
  },
  {
   "cell_type": "code",
   "execution_count": 28,
   "metadata": {},
   "outputs": [],
   "source": [
    "data = Dataset.load_from_df(df[['user_id', 'business_id', 'stars']], reader)"
   ]
  },
  {
   "cell_type": "code",
   "execution_count": 29,
   "metadata": {},
   "outputs": [],
   "source": [
    "data.split(5)  # data can now be used normally"
   ]
  },
  {
   "cell_type": "code",
   "execution_count": 41,
   "metadata": {},
   "outputs": [
    {
     "name": "stdout",
     "output_type": "stream",
     "text": [
      "Evaluating RMSE, MAE of algorithm SlopeOne.\n",
      "\n",
      "------------\n",
      "Fold 1\n",
      "RMSE: 1.4133\n",
      "MAE:  1.0735\n",
      "------------\n",
      "Fold 2\n",
      "RMSE: 1.4109\n",
      "MAE:  1.0711\n",
      "------------\n",
      "Fold 3\n",
      "RMSE: 1.4108\n",
      "MAE:  1.0716\n",
      "------------\n",
      "Fold 4\n",
      "RMSE: 1.4111\n",
      "MAE:  1.0715\n",
      "------------\n",
      "Fold 5\n",
      "RMSE: 1.4111\n",
      "MAE:  1.0712\n",
      "------------\n",
      "------------\n",
      "Mean RMSE: 1.4114\n",
      "Mean MAE : 1.0718\n",
      "------------\n",
      "------------\n",
      "        Fold 1  Fold 2  Fold 3  Fold 4  Fold 5  Mean    \n",
      "RMSE    1.4133  1.4109  1.4108  1.4111  1.4111  1.4114  \n",
      "MAE     1.0735  1.0711  1.0716  1.0715  1.0712  1.0718  \n"
     ]
    }
   ],
   "source": [
    "# algo = SVDpp(verbose=True, lr_all=0.01, n_factors=128)\n",
    "algo = SlopeOne()\n",
    "perf = evaluate(algo, data, measures=['RMSE', 'MAE'])\n",
    "print_perf(perf)"
   ]
  },
  {
   "cell_type": "code",
   "execution_count": null,
   "metadata": {},
   "outputs": [],
   "source": []
  }
 ],
 "metadata": {
  "kernelspec": {
   "display_name": "Python 3",
   "language": "python",
   "name": "python3"
  },
  "language_info": {
   "codemirror_mode": {
    "name": "ipython",
    "version": 3
   },
   "file_extension": ".py",
   "mimetype": "text/x-python",
   "name": "python",
   "nbconvert_exporter": "python",
   "pygments_lexer": "ipython3",
   "version": "3.6.3"
  }
 },
 "nbformat": 4,
 "nbformat_minor": 2
}
